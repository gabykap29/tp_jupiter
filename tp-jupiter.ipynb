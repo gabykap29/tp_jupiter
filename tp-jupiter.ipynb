{
 "cells": [
  {
   "cell_type": "markdown",
   "metadata": {},
   "source": [
    "# Tp Jupiter Notebook "
   ]
  },
  {
   "cell_type": "code",
   "execution_count": 2,
   "metadata": {},
   "outputs": [],
   "source": [
    "def comparar_cadenas_lexicograficas(cadena1, cadena2):\n",
    "    #declaración de variables\n",
    "    valor_cadena1 = 0\n",
    "    valor_cadena2 = 0\n",
    "\n",
    "    #recorrer la primera cadena recibida por parametro.\n",
    "    for char in cadena1:\n",
    "        #obtener su valor en codigo ASCII\n",
    "        valor_cadena1 += ord(char)\n",
    "\n",
    "    # recorrer la primera cadena recibida por parametro.\n",
    "    for char2 in cadena2:\n",
    "        # obtener su valor en codigo ASCII\n",
    "        valor_cadena2 += ord(char2)\n",
    "\n",
    "    #comparar sus valores..\n",
    "    if valor_cadena1 < valor_cadena2:\n",
    "        return -1\n",
    "    elif valor_cadena2 < valor_cadena1:\n",
    "        return 1\n",
    "    else:\n",
    "        return 0\n",
    "\n",
    "\n"
   ]
  },
  {
   "cell_type": "code",
   "execution_count": 3,
   "metadata": {},
   "outputs": [
    {
     "name": "stdout",
     "output_type": "stream",
     "text": [
      "-1\n",
      "1\n",
      "0\n"
     ]
    }
   ],
   "source": [
    "print(comparar_cadenas_lexicograficas(\"abc\",\"bcd\"))\n",
    "\n",
    "print(comparar_cadenas_lexicograficas(\"bcd\",\"abc\"))\n",
    "\n",
    "print(comparar_cadenas_lexicograficas(\"abc\",\"abc\"))"
   ]
  },
  {
   "cell_type": "markdown",
   "metadata": {},
   "source": [
    "### ● Agrupa los datos por trimestre y calcula el total de ventas para cada trimestre."
   ]
  },
  {
   "cell_type": "code",
   "execution_count": 5,
   "metadata": {},
   "outputs": [],
   "source": [
    "# imortar libreria pandas, primero ejecutar este bloque antes que los siguientes.\n",
    "import pandas as pd\n",
    "ventas_mensuales = [\n",
    "{\"mes\": \"Enero\", \"total_ventas\": 15000, \"año\": 2023},\n",
    "{\"mes\": \"Febrero\", \"total_ventas\": 18000, \"año\": 2023},\n",
    "{\"mes\": \"Marzo\", \"total_ventas\": 22000, \"año\": 2023},\n",
    "{\"mes\": \"Abril\", \"total_ventas\": 19000, \"año\": 2023},\n",
    "{\"mes\": \"Mayo\", \"total_ventas\": 25000, \"año\": 2023},\n",
    "{\"mes\": \"Junio\", \"total_ventas\": 28000, \"año\": 2023},\n",
    "{\"mes\": \"Julio\", \"total_ventas\": 32000, \"año\": 2023},\n",
    "{\"mes\": \"Agosto\", \"total_ventas\": 30000, \"año\": 2023},\n",
    "{\"mes\": \"Septiembre\", \"total_ventas\": 28000, \"año\": 2023},\n",
    "{\"mes\": \"Octubre\", \"total_ventas\": 31000, \"año\": 2023},\n",
    "{\"mes\": \"Noviembre\", \"total_ventas\": 33000, \"año\": 2023},\n",
    "{\"mes\": \"Diciembre\", \"total_ventas\": 36000, \"año\": 2023},\n",
    "{\"mes\": \"Enero 2\", \"total_ventas\": 37000, \"año\": 2024},\n",
    "{\"mes\": \"Febrero 2\", \"total_ventas\": 38000, \"año\": 2024},\n",
    "{\"mes\": \"Marzo 2\", \"total_ventas\": 42000, \"año\": 2024},\n",
    "{\"mes\": \"Abril 2\", \"total_ventas\": 39000, \"año\": 2024},\n",
    "{\"mes\": \"Mayo 2\", \"total_ventas\": 45000, \"año\": 2024},\n",
    "{\"mes\": \"Junio 2\", \"total_ventas\": 48000, \"año\": 2024},\n",
    "{\"mes\": \"Julio 2\", \"total_ventas\": 52000, \"año\": 2024},\n",
    "{\"mes\": \"Agosto 2\", \"total_ventas\": 50000, \"año\": 2024},\n",
    "{\"mes\": \"Septiembre 2\", \"total_ventas\": 48000, \"año\": 2024},\n",
    "{\"mes\": \"Octubre 2\", \"total_ventas\": 51000, \"año\": 2024},\n",
    "{\"mes\": \"Noviembre 2\", \"total_ventas\": 55000, \"año\": 2024},\n",
    "{\"mes\": \"Diciembre 2\", \"total_ventas\": 58000, \"año\": 2024},\n",
    "]\n",
    "dataframe = pd.DataFrame(ventas_mensuales)"
   ]
  },
  {
   "cell_type": "code",
   "execution_count": 6,
   "metadata": {},
   "outputs": [],
   "source": [
    "#Trimestres separados\n",
    "\n",
    "#año 2023\n",
    "trimestre1_2023 = pd.DataFrame(dataframe[0:3])\n",
    "trimestre2_2023 = pd.DataFrame(dataframe[3:6])\n",
    "trimestre3_2023 = pd.DataFrame(dataframe[6:9])\n",
    "trimestre4_2023 = pd.DataFrame(dataframe[9:12])\n",
    "\n",
    "#año 2024\n",
    "trimestre1_2024 = pd.DataFrame(dataframe[12:15])\n",
    "trimestre2_2024 = pd.DataFrame(dataframe[15:18])\n",
    "trimestre3_2024 = pd.DataFrame(dataframe[18:21])\n",
    "trimestre4_2024 = pd.DataFrame(dataframe[21:24])"
   ]
  },
  {
   "cell_type": "code",
   "execution_count": 7,
   "metadata": {},
   "outputs": [
    {
     "name": "stdout",
     "output_type": "stream",
     "text": [
      "Ventas trimestre1 2023, 55000\n",
      "Ventas trimestre2 2023, 72000\n",
      "Ventas trimestre3 2023, 90000\n",
      "Ventas trimestre4 2023, 100000\n",
      "Ventas trimestre1 2024, 117000\n",
      "Ventas trimestre1 2024, 132000\n",
      "Ventas trimestre1 2024, 150000\n",
      "Ventas trimestre1 2024, 164000\n"
     ]
    }
   ],
   "source": [
    "#obtener las ventas por trimestre, sumando los valores de la columna con el metodo sum()\n",
    "def obtener_ventas_trimestre(trimestre):\n",
    "    resultado = trimestre[\"total_ventas\"].sum()\n",
    "    return resultado\n",
    "\n",
    "print(\"Ventas trimestre1 2023,\",obtener_ventas_trimestre(trimestre1_2023))\n",
    "print(\"Ventas trimestre2 2023,\",obtener_ventas_trimestre(trimestre2_2023))\n",
    "print(\"Ventas trimestre3 2023,\",obtener_ventas_trimestre(trimestre3_2023))\n",
    "print(\"Ventas trimestre4 2023,\",obtener_ventas_trimestre(trimestre4_2023))\n",
    "print(\"Ventas trimestre1 2024,\",obtener_ventas_trimestre(trimestre1_2024))\n",
    "print(\"Ventas trimestre1 2024,\",obtener_ventas_trimestre(trimestre2_2024))\n",
    "print(\"Ventas trimestre1 2024,\",obtener_ventas_trimestre(trimestre3_2024))\n",
    "print(\"Ventas trimestre1 2024,\",obtener_ventas_trimestre(trimestre4_2024))"
   ]
  },
  {
   "cell_type": "markdown",
   "metadata": {},
   "source": [
    "### ● Filtrar y mostrar solo los meses donde las ventas superen 20000."
   ]
  },
  {
   "cell_type": "code",
   "execution_count": 8,
   "metadata": {},
   "outputs": [
    {
     "name": "stdout",
     "output_type": "stream",
     "text": [
      "Ventas supeiores a 20000: \n",
      "             mes  total_ventas   año\n",
      "2          Marzo         22000  2023\n",
      "4           Mayo         25000  2023\n",
      "5          Junio         28000  2023\n",
      "6          Julio         32000  2023\n",
      "7         Agosto         30000  2023\n",
      "8     Septiembre         28000  2023\n",
      "9        Octubre         31000  2023\n",
      "10     Noviembre         33000  2023\n",
      "11     Diciembre         36000  2023\n",
      "12       Enero 2         37000  2024\n",
      "13     Febrero 2         38000  2024\n",
      "14       Marzo 2         42000  2024\n",
      "15       Abril 2         39000  2024\n",
      "16        Mayo 2         45000  2024\n",
      "17       Junio 2         48000  2024\n",
      "18       Julio 2         52000  2024\n",
      "19      Agosto 2         50000  2024\n",
      "20  Septiembre 2         48000  2024\n",
      "21     Octubre 2         51000  2024\n",
      "22   Noviembre 2         55000  2024\n",
      "23   Diciembre 2         58000  2024\n"
     ]
    }
   ],
   "source": [
    "#funcion para filtrar los meses donde la venta superar los 20000\n",
    "def filtrar_meses(dataframe):\n",
    "    limite = 20000\n",
    "    meses = dataframe[dataframe['total_ventas'] > limite]\n",
    "    return meses\n",
    "\n",
    "print(\"Ventas supeiores a 20000: \")\n",
    "print(filtrar_meses(dataframe))"
   ]
  },
  {
   "cell_type": "markdown",
   "metadata": {},
   "source": [
    "\n",
    "### ● Encontrar el mes con el mayor volumen de ventas y mostrar esta información."
   ]
  },
  {
   "cell_type": "code",
   "execution_count": 9,
   "metadata": {},
   "outputs": [
    {
     "name": "stdout",
     "output_type": "stream",
     "text": [
      "mes con mayor volumen de ventas: \n",
      "            mes  total_ventas   año\n",
      "23  Diciembre 2         58000  2024\n"
     ]
    }
   ],
   "source": [
    "def obtener_mayor_volumen_ventas(dataframe):\n",
    "\n",
    "    venta_mayor = dataframe[dataframe['total_ventas'] == (dataframe[\"total_ventas\"].max())]\n",
    "    return venta_mayor\n",
    "\n",
    "print(\"mes con mayor volumen de ventas: \")\n",
    "print(obtener_mayor_volumen_ventas(dataframe))\n"
   ]
  },
  {
   "cell_type": "markdown",
   "metadata": {},
   "source": [
    "### * obtener el promedio de ventas mensual."
   ]
  },
  {
   "cell_type": "code",
   "execution_count": 10,
   "metadata": {},
   "outputs": [
    {
     "name": "stdout",
     "output_type": "stream",
     "text": [
      "Promedio de ventas mensual es de:  36666.666666666664\n"
     ]
    }
   ],
   "source": [
    "def obtener_promedio(dataframe):\n",
    "    #con el metodo mean se obtiene el promedio de la columna total_ventas\n",
    "    promedio_ventas = dataframe['total_ventas'].mean()\n",
    "    return  promedio_ventas\n",
    "\n",
    "print(\"Promedio de ventas mensual es de: \",obtener_promedio(dataframe))"
   ]
  },
  {
   "cell_type": "markdown",
   "metadata": {},
   "source": [
    "### Crea un DataFrame que incluya dos columnas una para los meses y otra para el total de ventas de cada mes."
   ]
  },
  {
   "cell_type": "code",
   "execution_count": 11,
   "metadata": {},
   "outputs": [
    {
     "name": "stdout",
     "output_type": "stream",
     "text": [
      "Nuevo dataframe con solo los meses y el total de ventas\n",
      "             mes  total_ventas\n",
      "0          Enero         15000\n",
      "1        Febrero         18000\n",
      "2          Marzo         22000\n",
      "3          Abril         19000\n",
      "4           Mayo         25000\n",
      "5          Junio         28000\n",
      "6          Julio         32000\n",
      "7         Agosto         30000\n",
      "8     Septiembre         28000\n",
      "9        Octubre         31000\n",
      "10     Noviembre         33000\n",
      "11     Diciembre         36000\n",
      "12       Enero 2         37000\n",
      "13     Febrero 2         38000\n",
      "14       Marzo 2         42000\n",
      "15       Abril 2         39000\n",
      "16        Mayo 2         45000\n",
      "17       Junio 2         48000\n",
      "18       Julio 2         52000\n",
      "19      Agosto 2         50000\n",
      "20  Septiembre 2         48000\n",
      "21     Octubre 2         51000\n",
      "22   Noviembre 2         55000\n",
      "23   Diciembre 2         58000\n"
     ]
    }
   ],
   "source": [
    "def nuevo_dataframe(dataframe):\n",
    "    datos = dataframe[[\"mes\" , \"total_ventas\"]]\n",
    "    dataframe2 = pd.DataFrame(datos)\n",
    "    return  dataframe2\n",
    "print(\"Nuevo dataframe con solo los meses y el total de ventas\")\n",
    "print(nuevo_dataframe(dataframe))"
   ]
  },
  {
   "cell_type": "markdown",
   "metadata": {},
   "source": [
    "### Grafico del nuevo dataframe"
   ]
  },
  {
   "cell_type": "code",
   "execution_count": 13,
   "metadata": {},
   "outputs": [
    {
     "data": {
      "image/png": "[encoded data removed]",
      "text/plain": [
       "<Figure size 640x480 with 1 Axes>"
      ]
     },
     "metadata": {},
     "output_type": "display_data"
    }
   ],
   "source": [
    "import matplotlib.pyplot as plt\n",
    "datos = nuevo_dataframe(dataframe)\n",
    "meses = [\"Enero\",\"Febrero\",\"Marzo\",\"Abril\",\"Mayo\", \"Junio\",\"Julio\",\"Agosto\",\"Setiembre\",\"Octubre\",\"Noviembre\",\"Diciembre\"]\n",
    "\n",
    "ventas_2023 = pd.DataFrame(datos[0:12])\n",
    "ventas_2024 = pd.DataFrame(datos[12:24])\n",
    "\n",
    "plt.plot(meses, ventas_2023[\"total_ventas\"], color='red')\n",
    "plt.plot(meses, ventas_2024[\"total_ventas\"])\n",
    "plt.title(\"Grafico de ventas por mes\")\n",
    "plt.xlabel(\"Meses 2023-2024\")\n",
    "plt.ylabel(\"Ventas\")\n",
    "plt.legend(\"34\")\n",
    "plt.show()\n"
   ]
  }
 ],
 "metadata": {
  "kernelspec": {
   "display_name": "env",
   "language": "python",
   "name": "python3"
  },
  "language_info": {
   "codemirror_mode": {
    "name": "ipython",
    "version": 3
   },
   "file_extension": ".py",
   "mimetype": "text/x-python",
   "name": "python",
   "nbconvert_exporter": "python",
   "pygments_lexer": "ipython3",
   "version": "3.11.2"
  }
 },
 "nbformat": 4,
 "nbformat_minor": 2
}
